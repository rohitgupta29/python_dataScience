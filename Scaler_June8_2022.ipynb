{
  "nbformat": 4,
  "nbformat_minor": 0,
  "metadata": {
    "colab": {
      "name": "Scaler_June8_2022.ipynb",
      "provenance": [],
      "authorship_tag": "ABX9TyNHRqHr9TqBpadsEZZOLcXy",
      "include_colab_link": true
    },
    "kernelspec": {
      "name": "python3",
      "display_name": "Python 3"
    },
    "language_info": {
      "name": "python"
    }
  },
  "cells": [
    {
      "cell_type": "markdown",
      "metadata": {
        "id": "view-in-github",
        "colab_type": "text"
      },
      "source": [
        "<a href=\"https://colab.research.google.com/github/rohitgupta29/python_dataScience/blob/main/Scaler_June8_2022.ipynb\" target=\"_parent\"><img src=\"https://colab.research.google.com/assets/colab-badge.svg\" alt=\"Open In Colab\"/></a>"
      ]
    },
    {
      "cell_type": "code",
      "execution_count": null,
      "metadata": {
        "id": "cktls_fO_--p"
      },
      "outputs": [],
      "source": [
        "arr = list(range(10))"
      ]
    },
    {
      "cell_type": "code",
      "source": [
        "result = []\n",
        "\n",
        "for i in range(len(arr) - 1):\n",
        "  print(arr[i], end= \" \")\n",
        "  a = arr[i+1]\n",
        "  arr.remove(arr[i+1])\n",
        "  arr.append(a)\n",
        "\n",
        "result.append(arr[len(arr) - 1])"
      ],
      "metadata": {
        "colab": {
          "base_uri": "https://localhost:8080/"
        },
        "id": "aAlWj4WkAFhY",
        "outputId": "5fcddfb2-46d9-4efb-b42d-d8a0ecfc46b5"
      },
      "execution_count": null,
      "outputs": [
        {
          "output_type": "stream",
          "name": "stdout",
          "text": [
            "0 8 7 1 9 4 2 6 3 "
          ]
        }
      ]
    },
    {
      "cell_type": "code",
      "source": [
        "left = arr[::2]\n",
        "left"
      ],
      "metadata": {
        "colab": {
          "base_uri": "https://localhost:8080/"
        },
        "id": "UuGTsmvyAUH1",
        "outputId": "27b05cca-88ea-4e05-ac63-6d354ea2daaf"
      },
      "execution_count": null,
      "outputs": [
        {
          "output_type": "execute_result",
          "data": {
            "text/plain": [
              "[0, 7, 9, 2, 3]"
            ]
          },
          "metadata": {},
          "execution_count": 6
        }
      ]
    },
    {
      "cell_type": "code",
      "source": [
        "right = arr[1::2]\n",
        "right"
      ],
      "metadata": {
        "colab": {
          "base_uri": "https://localhost:8080/"
        },
        "id": "OnisvEB4AwHP",
        "outputId": "dac97cbd-d64f-4925-bbc3-c043e59887e8"
      },
      "execution_count": null,
      "outputs": [
        {
          "output_type": "execute_result",
          "data": {
            "text/plain": [
              "[8, 1, 4, 6, 5]"
            ]
          },
          "metadata": {},
          "execution_count": 8
        }
      ]
    },
    {
      "cell_type": "markdown",
      "source": [
        "TimSort - Hybrid Algorithm with merge sort and insertion sort. This is used by Python to sort. "
      ],
      "metadata": {
        "id": "gVvuwcRABwT2"
      }
    },
    {
      "cell_type": "code",
      "source": [
        "for i in range(10):\n",
        "  print(i)\n",
        "else:\n",
        "  print(\"else after the loop\")\n",
        "\n",
        "# importance is, if we break the for loop, the else block won't execute.\n"
      ],
      "metadata": {
        "colab": {
          "base_uri": "https://localhost:8080/"
        },
        "id": "AmFo58Z_A11T",
        "outputId": "092061fd-e3f9-4e1c-f1f8-7010bc742828"
      },
      "execution_count": null,
      "outputs": [
        {
          "output_type": "stream",
          "name": "stdout",
          "text": [
            "0\n",
            "1\n",
            "2\n",
            "3\n",
            "4\n",
            "5\n",
            "6\n",
            "7\n",
            "8\n",
            "9\n",
            "else after the loop\n"
          ]
        }
      ]
    },
    {
      "cell_type": "code",
      "source": [
        "def solve(n):\n",
        "  \n",
        "  return n/2 + solve(n/2)"
      ],
      "metadata": {
        "id": "tKmIjk9_DT2S"
      },
      "execution_count": null,
      "outputs": []
    },
    {
      "cell_type": "markdown",
      "source": [
        "Fourior Transform - used for signal processing. \n",
        "\n",
        "Taylor's series \n",
        "\n",
        "Just find the use cases for Maths and it would fit in. \n",
        "\n",
        "link - https://www.youtube.com/watch?v=spUNpyF58BY \n",
        "\n",
        "\n",
        "Infix and PostFix "
      ],
      "metadata": {
        "id": "K0pOkL9XFiWw"
      }
    },
    {
      "cell_type": "markdown",
      "source": [
        "# Searching "
      ],
      "metadata": {
        "id": "amiZ3RDCGcaN"
      }
    },
    {
      "cell_type": "markdown",
      "source": [
        ""
      ],
      "metadata": {
        "id": "YweENCGzGcQ1"
      }
    },
    {
      "cell_type": "code",
      "source": [
        "## Given an element to find, find the index. \n",
        "\n",
        "\n",
        "\n"
      ],
      "metadata": {
        "id": "ojUCM3f6GAYv"
      },
      "execution_count": null,
      "outputs": []
    },
    {
      "cell_type": "markdown",
      "source": [
        "## Linear Search "
      ],
      "metadata": {
        "id": "04QfDXcoHDZ9"
      }
    },
    {
      "cell_type": "code",
      "source": [
        "arr= list(range(5)"
      ],
      "metadata": {
        "colab": {
          "base_uri": "https://localhost:8080/",
          "height": 184
        },
        "id": "jJsX-fzXHZSl",
        "outputId": "cb1feb6b-81de-4684-fb50-ba73867d81e3"
      },
      "execution_count": null,
      "outputs": [
        {
          "output_type": "error",
          "ename": "TypeError",
          "evalue": "ignored",
          "traceback": [
            "\u001b[0;31m---------------------------------------------------------------------------\u001b[0m",
            "\u001b[0;31mTypeError\u001b[0m                                 Traceback (most recent call last)",
            "\u001b[0;32m<ipython-input-14-c21ad53b9395>\u001b[0m in \u001b[0;36m<module>\u001b[0;34m()\u001b[0m\n\u001b[0;32m----> 1\u001b[0;31m \u001b[0marr\u001b[0m\u001b[0;34m=\u001b[0m \u001b[0mlist\u001b[0m\u001b[0;34m(\u001b[0m\u001b[0mint\u001b[0m\u001b[0;34m(\u001b[0m\u001b[0mrange\u001b[0m\u001b[0;34m(\u001b[0m\u001b[0;36m5\u001b[0m\u001b[0;34m)\u001b[0m\u001b[0;34m)\u001b[0m\u001b[0;34m)\u001b[0m\u001b[0;34m\u001b[0m\u001b[0;34m\u001b[0m\u001b[0m\n\u001b[0m",
            "\u001b[0;31mTypeError\u001b[0m: int() argument must be a string, a bytes-like object or a number, not 'range'"
          ]
        }
      ]
    },
    {
      "cell_type": "code",
      "source": [
        "def linear_search(arr,el):\n",
        "  for i in range(len(arr)):\n",
        "    if arr[i] == el:\n",
        "      return i \n",
        "  return -1\n",
        "\n",
        "\n",
        "arr = [1,2,3,4,5]\n",
        "linear_search(arr=arr,el= 5)"
      ],
      "metadata": {
        "colab": {
          "base_uri": "https://localhost:8080/"
        },
        "id": "eLsm-nhVHD2U",
        "outputId": "b9372b38-45e2-473f-e82f-09d66cb4e767"
      },
      "execution_count": null,
      "outputs": [
        {
          "output_type": "execute_result",
          "data": {
            "text/plain": [
              "4"
            ]
          },
          "metadata": {},
          "execution_count": 17
        }
      ]
    },
    {
      "cell_type": "markdown",
      "source": [
        "## Binary Search "
      ],
      "metadata": {
        "id": "3CKCTUNbH6ur"
      }
    },
    {
      "cell_type": "code",
      "source": [
        "\n",
        "arr = [1,2,3,4,5]"
      ],
      "metadata": {
        "id": "WMQWdOCaIilY"
      },
      "execution_count": null,
      "outputs": []
    },
    {
      "cell_type": "code",
      "source": [
        "def binary_search(arr,el):\n",
        "  arr = sorted(arr)\n",
        "  a,b = arr[:len(arr)/2], arr[len(arr)/2:]\n",
        "  el = el \n",
        "  return a,b\n",
        "\n"
      ],
      "metadata": {
        "colab": {
          "base_uri": "https://localhost:8080/",
          "height": 201
        },
        "id": "j3cEprjIHVMl",
        "outputId": "35276ffa-d699-4289-d62c-633fbcfa527f"
      },
      "execution_count": null,
      "outputs": [
        {
          "output_type": "error",
          "ename": "TypeError",
          "evalue": "ignored",
          "traceback": [
            "\u001b[0;31m---------------------------------------------------------------------------\u001b[0m",
            "\u001b[0;31mTypeError\u001b[0m                                 Traceback (most recent call last)",
            "\u001b[0;32m<ipython-input-21-ad32ba246277>\u001b[0m in \u001b[0;36m<module>\u001b[0;34m()\u001b[0m\n\u001b[1;32m      5\u001b[0m   \u001b[0;32mreturn\u001b[0m \u001b[0ma\u001b[0m\u001b[0;34m,\u001b[0m\u001b[0mb\u001b[0m\u001b[0;34m\u001b[0m\u001b[0;34m\u001b[0m\u001b[0m\n\u001b[1;32m      6\u001b[0m \u001b[0;34m\u001b[0m\u001b[0m\n\u001b[0;32m----> 7\u001b[0;31m \u001b[0mbinary_search\u001b[0m\u001b[0;34m(\u001b[0m\u001b[0marr\u001b[0m \u001b[0;34m=\u001b[0m \u001b[0marr\u001b[0m\u001b[0;34m,\u001b[0m \u001b[0mele\u001b[0m\u001b[0;34m=\u001b[0m \u001b[0;36m3\u001b[0m\u001b[0;34m)\u001b[0m\u001b[0;34m\u001b[0m\u001b[0;34m\u001b[0m\u001b[0m\n\u001b[0m",
            "\u001b[0;31mTypeError\u001b[0m: binary_search() got an unexpected keyword argument 'ele'"
          ]
        }
      ]
    },
    {
      "cell_type": "code",
      "source": [
        "# expect that the given array is always sorted.\n",
        "\n",
        "\n",
        "\n",
        "def binary_search(arr,el):\n",
        "  start = 0\n",
        "  end = len(arr)\n",
        "\n",
        "  while len(arr) > 0:\n",
        "    #find the mid point\n",
        "    mid_point = (start + end )//2 \n",
        "\n",
        "    if arr[mid_point] == el:\n",
        "      return mid_point \n",
        "    elif arr[mid_point] > el:\n",
        "      end = mid_point\n",
        "      # arr = arr[:mid_point]\n",
        "    else:\n",
        "      start = mid_point\n",
        "      # arr = arr[mid_point:]\n",
        "\n",
        "  return -1\n"
      ],
      "metadata": {
        "id": "VQavV7iQIkcR"
      },
      "execution_count": null,
      "outputs": []
    },
    {
      "cell_type": "code",
      "source": [
        "arr = sorted([1,2,4,5,5,6,7,7,8,9,9,3])\n",
        "print(arr)\n",
        "binary_search(sorted(arr),3)"
      ],
      "metadata": {
        "colab": {
          "base_uri": "https://localhost:8080/"
        },
        "id": "SfRr0qdzKHOC",
        "outputId": "19b48a3f-eda5-41a3-b404-f4f125830687"
      },
      "execution_count": null,
      "outputs": [
        {
          "output_type": "stream",
          "name": "stdout",
          "text": [
            "[1, 2, 3, 4, 5, 5, 6, 7, 7, 8, 9, 9]\n"
          ]
        },
        {
          "output_type": "execute_result",
          "data": {
            "text/plain": [
              "2"
            ]
          },
          "metadata": {},
          "execution_count": 41
        }
      ]
    },
    {
      "cell_type": "code",
      "source": [
        "arr = sorted([6,3,5,1,4,2,8,6,9,10], reverse= True)\n",
        "\n",
        "#binary search to work with reverse sorted array\n",
        "def solve(arr,el):\n",
        "  start = 0 \n",
        "  end = len(arr)\n",
        "\n",
        "  while start < end:\n",
        "    mid_point = (start + end )//2 \n",
        "\n",
        "    if arr[mid_point] == el:\n",
        "      return mid_point \n",
        "    elif arr[mid_point] > el:\n",
        "      end = mid_point - 1\n",
        "      # arr = arr[:mid_point]\n",
        "    else:\n",
        "      start = mid_point + 1\n",
        "      # arr = arr[mid_point:]\n",
        "\n",
        "  return -1\n",
        "\n",
        "\n",
        "\n"
      ],
      "metadata": {
        "colab": {
          "base_uri": "https://localhost:8080/",
          "height": 358
        },
        "id": "DGHs9cSQKOQv",
        "outputId": "f175fe8c-c20b-4ae4-d5b6-3d571567507c"
      },
      "execution_count": null,
      "outputs": [
        {
          "output_type": "error",
          "ename": "KeyboardInterrupt",
          "evalue": "ignored",
          "traceback": [
            "\u001b[0;31m---------------------------------------------------------------------------\u001b[0m",
            "\u001b[0;31mKeyboardInterrupt\u001b[0m                         Traceback (most recent call last)",
            "\u001b[0;32m<ipython-input-44-e0d7fc3d34a6>\u001b[0m in \u001b[0;36m<module>\u001b[0;34m()\u001b[0m\n\u001b[1;32m     20\u001b[0m   \u001b[0;32mreturn\u001b[0m \u001b[0;34m-\u001b[0m\u001b[0;36m1\u001b[0m\u001b[0;34m\u001b[0m\u001b[0;34m\u001b[0m\u001b[0m\n\u001b[1;32m     21\u001b[0m \u001b[0;34m\u001b[0m\u001b[0m\n\u001b[0;32m---> 22\u001b[0;31m \u001b[0msolve\u001b[0m\u001b[0;34m(\u001b[0m\u001b[0marr\u001b[0m\u001b[0;34m=\u001b[0m \u001b[0marr\u001b[0m\u001b[0;34m,\u001b[0m \u001b[0mel\u001b[0m\u001b[0;34m=\u001b[0m \u001b[0;36m6\u001b[0m\u001b[0;34m)\u001b[0m\u001b[0;34m\u001b[0m\u001b[0;34m\u001b[0m\u001b[0m\n\u001b[0m\u001b[1;32m     23\u001b[0m \u001b[0;34m\u001b[0m\u001b[0m\n\u001b[1;32m     24\u001b[0m \u001b[0;34m\u001b[0m\u001b[0m\n",
            "\u001b[0;32m<ipython-input-44-e0d7fc3d34a6>\u001b[0m in \u001b[0;36msolve\u001b[0;34m(arr, el)\u001b[0m\n\u001b[1;32m      7\u001b[0m \u001b[0;34m\u001b[0m\u001b[0m\n\u001b[1;32m      8\u001b[0m   \u001b[0;32mwhile\u001b[0m \u001b[0mlen\u001b[0m\u001b[0;34m(\u001b[0m\u001b[0marr\u001b[0m\u001b[0;34m)\u001b[0m \u001b[0;34m>\u001b[0m \u001b[0;36m0\u001b[0m\u001b[0;34m:\u001b[0m\u001b[0;34m\u001b[0m\u001b[0;34m\u001b[0m\u001b[0m\n\u001b[0;32m----> 9\u001b[0;31m     \u001b[0mmid_point\u001b[0m \u001b[0;34m=\u001b[0m \u001b[0;34m(\u001b[0m\u001b[0mstart\u001b[0m \u001b[0;34m+\u001b[0m \u001b[0mend\u001b[0m \u001b[0;34m)\u001b[0m\u001b[0;34m//\u001b[0m\u001b[0;36m2\u001b[0m\u001b[0;34m\u001b[0m\u001b[0;34m\u001b[0m\u001b[0m\n\u001b[0m\u001b[1;32m     10\u001b[0m \u001b[0;34m\u001b[0m\u001b[0m\n\u001b[1;32m     11\u001b[0m     \u001b[0;32mif\u001b[0m \u001b[0marr\u001b[0m\u001b[0;34m[\u001b[0m\u001b[0mmid_point\u001b[0m\u001b[0;34m]\u001b[0m \u001b[0;34m==\u001b[0m \u001b[0mel\u001b[0m\u001b[0;34m:\u001b[0m\u001b[0;34m\u001b[0m\u001b[0;34m\u001b[0m\u001b[0m\n",
            "\u001b[0;31mKeyboardInterrupt\u001b[0m: "
          ]
        }
      ]
    },
    {
      "cell_type": "code",
      "source": [
        "solve(arr= arr, el= 6)"
      ],
      "metadata": {
        "id": "0VqH8yK1OB8U"
      },
      "execution_count": null,
      "outputs": []
    },
    {
      "cell_type": "code",
      "source": [
        "'a' > 'b'"
      ],
      "metadata": {
        "colab": {
          "base_uri": "https://localhost:8080/"
        },
        "id": "7Jb-p11ONaDS",
        "outputId": "a6cad64c-29a8-42ba-f0e8-3536fac6dd70"
      },
      "execution_count": null,
      "outputs": [
        {
          "output_type": "execute_result",
          "data": {
            "text/plain": [
              "False"
            ]
          },
          "metadata": {},
          "execution_count": 45
        }
      ]
    },
    {
      "cell_type": "code",
      "source": [
        "'A' > 'a'"
      ],
      "metadata": {
        "colab": {
          "base_uri": "https://localhost:8080/"
        },
        "id": "a9fIu4QWPFQU",
        "outputId": "27d98bbf-b5b8-4dbd-deb5-2845bd2a233d"
      },
      "execution_count": null,
      "outputs": [
        {
          "output_type": "execute_result",
          "data": {
            "text/plain": [
              "False"
            ]
          },
          "metadata": {},
          "execution_count": 46
        }
      ]
    },
    {
      "cell_type": "code",
      "source": [
        "\"ABCDEFGHIJKL\" < 'a'\n"
      ],
      "metadata": {
        "colab": {
          "base_uri": "https://localhost:8080/"
        },
        "id": "QPLqx8LOPLeD",
        "outputId": "e2341e04-3811-4dd9-91b0-62b90203302f"
      },
      "execution_count": null,
      "outputs": [
        {
          "output_type": "execute_result",
          "data": {
            "text/plain": [
              "True"
            ]
          },
          "metadata": {},
          "execution_count": 48
        }
      ]
    },
    {
      "cell_type": "markdown",
      "source": [
        "(above)Lixicographic Comparisons. We can have value from 0 to 2^8 or 256."
      ],
      "metadata": {
        "id": "hWrU7ntWPTRG"
      }
    },
    {
      "cell_type": "code",
      "source": [
        "lis = sorted(['alpha','gamma','beta','delta'])"
      ],
      "metadata": {
        "id": "u4wsFCPHPPtw"
      },
      "execution_count": null,
      "outputs": []
    },
    {
      "cell_type": "code",
      "source": [
        "from IPython.core.display import Javascript\n",
        "for i in range(len(lis)):\n",
        "  min_index = i\n",
        "  min_str = lis[i]\n",
        "  for j in range(len(lis) - i):\n",
        "    if min_str > lis[j]:\n",
        "      min_index = j \n",
        "  if min_index != i:\n",
        "    lis[i],lis[min_index] = lis[min_index], lis[i]\n",
        "\n",
        "print(lis)"
      ],
      "metadata": {
        "colab": {
          "base_uri": "https://localhost:8080/"
        },
        "id": "1ESKKrSHQLcs",
        "outputId": "4e1ae2e6-c75f-48e3-d3af-1cfe2b07855a"
      },
      "execution_count": null,
      "outputs": [
        {
          "output_type": "stream",
          "name": "stdout",
          "text": [
            "['gamma', 'delta', 'alpha', 'beta']\n"
          ]
        }
      ]
    },
    {
      "cell_type": "markdown",
      "source": [
        "## Generators \n",
        "\n",
        "Iteration Protocol \n",
        "- Iterable --> iter --> iterator --> next --> stop\n",
        "\n",
        "generator is an iterable on which every column iters. It returns itself. Therefore, generator is also an iterator. \n",
        "\n",
        "Any element that has iter dunder defined on it is iterable. \n",
        "\n",
        "Every element on which next is defined on it is an iterable. \n",
        "\n",
        "Same is the case with generator. "
      ],
      "metadata": {
        "id": "A7D8b6FsQ_rT"
      }
    },
    {
      "cell_type": "code",
      "source": [
        "class YRange:\n",
        "  def __init__(self, n):\n",
        "    self.n = n \n",
        "\n",
        "  def __iter__(self):\n",
        "    return YRangeIterator(self)\n",
        "\n",
        "class YRangeIterator:\n",
        "  def __init__(self, range):\n",
        "    self.range = range \n",
        "    self.else\n",
        "  def __next__(self):\n",
        "    if self.i > self.range.n:\n",
        "      raise StopIteration \n",
        "\n",
        "    try:\n",
        "      return self.i \n",
        "    finally: \n",
        "      self.i += 1"
      ],
      "metadata": {
        "colab": {
          "base_uri": "https://localhost:8080/",
          "height": 132
        },
        "id": "qvuiHaMtQ5FV",
        "outputId": "f0b68b17-6a7b-478e-b989-7e02746da411"
      },
      "execution_count": null,
      "outputs": [
        {
          "output_type": "error",
          "ename": "SyntaxError",
          "evalue": "ignored",
          "traceback": [
            "\u001b[0;36m  File \u001b[0;32m\"<ipython-input-53-e36a4f07154e>\"\u001b[0;36m, line \u001b[0;32m11\u001b[0m\n\u001b[0;31m    self.else\u001b[0m\n\u001b[0m            ^\u001b[0m\n\u001b[0;31mSyntaxError\u001b[0m\u001b[0;31m:\u001b[0m invalid syntax\n"
          ]
        }
      ]
    },
    {
      "cell_type": "code",
      "source": [
        "gen_exp = (i**2 for i in range(5))"
      ],
      "metadata": {
        "id": "JNTbRU2FTwQn"
      },
      "execution_count": null,
      "outputs": []
    },
    {
      "cell_type": "code",
      "source": [
        "for x in gen_exp:\n",
        "  print(x)"
      ],
      "metadata": {
        "colab": {
          "base_uri": "https://localhost:8080/"
        },
        "id": "fcTMRiK9T15X",
        "outputId": "37206d93-2101-450a-894b-7ece070148d4"
      },
      "execution_count": null,
      "outputs": [
        {
          "output_type": "stream",
          "name": "stdout",
          "text": [
            "0\n",
            "1\n",
            "4\n",
            "9\n",
            "16\n"
          ]
        }
      ]
    },
    {
      "cell_type": "code",
      "source": [
        "for x in gen_exp:\n",
        "  print(x)"
      ],
      "metadata": {
        "id": "6YbA62emT4lb"
      },
      "execution_count": null,
      "outputs": []
    },
    {
      "cell_type": "markdown",
      "source": [
        "## Bit Masking - \n",
        "\n",
        "Fast SquareRoot - https://www.youtube.com/watch?v=p8u_k2LIZyo\n",
        "\n",
        "- https://betterexplained.com/articles/understanding-quakes-fast-inverse-square-root/"
      ],
      "metadata": {
        "id": "FzcYNVWvUDvT"
      }
    },
    {
      "cell_type": "code",
      "source": [
        ""
      ],
      "metadata": {
        "id": "EyG76hOnT7ch"
      },
      "execution_count": null,
      "outputs": []
    }
  ]
}